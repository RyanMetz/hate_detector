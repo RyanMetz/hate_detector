{
 "cells": [
  {
   "cell_type": "code",
   "execution_count": 1,
   "metadata": {},
   "outputs": [
    {
     "name": "stderr",
     "output_type": "stream",
     "text": [
      "Using TensorFlow backend.\n"
     ]
    }
   ],
   "source": [
    "import os\n",
    "import collections\n",
    "import pandas as pd\n",
    "import numpy as np\n",
    "import matplotlib.pyplot as plt\n",
    "import logging\n",
    "import nltk\n",
    "\n",
    "import gensim\n",
    "from gensim.models import KeyedVectors\n",
    "\n",
    "from keras import backend\n",
    "from keras.utils import np_utils\n",
    "from keras.preprocessing.text import text_to_word_sequence\n",
    "from keras.preprocessing.sequence import pad_sequences\n",
    "from keras.utils import to_categorical, plot_model\n",
    "from keras.models import Sequential\n",
    "from keras.layers import Embedding, Dropout, Conv1D, MaxPooling1D, GRU, GlobalMaxPooling1D, Dense\n",
    "from keras import regularizers\n",
    "from keras import metrics\n",
    "from keras.utils.vis_utils import model_to_dot\n",
    "import h5py\n",
    "\n",
    "from IPython.display import SVG"
   ]
  },
  {
   "cell_type": "code",
   "execution_count": 2,
   "metadata": {},
   "outputs": [],
   "source": [
    "INPUT_FILE = './text_for_gensim.txt'"
   ]
  },
  {
   "cell_type": "code",
   "execution_count": 3,
   "metadata": {},
   "outputs": [],
   "source": [
    "WORD2VEC_MODEL = \"./GoogleNews-vectors-negative300.bin\"\n",
    "VOCAB_SIZE = 10000\n",
    "EMBEDDING_DIM = 300\n",
    "NUM_FILTERS = 100\n",
    "NUM_WORDS = 4\n",
    "BATCH_SIZE = 300\n",
    "NUM_EPOCHS = 3"
   ]
  },
  {
   "cell_type": "markdown",
   "metadata": {},
   "source": [
    "**This takes the txt file, tokenizes the tweets, determines the max length of the tweets, and makes a counter for the corpus. Then it makes an index by going through the most common words of the 10,000 I'm setting vocab size to (this was a decision I made to remove words with low predictive power because they appear rarely) and assigns the words word IDs.**"
   ]
  },
  {
   "cell_type": "code",
   "execution_count": 4,
   "metadata": {},
   "outputs": [],
   "source": [
    "counter = collections.Counter()\n",
    "fin = open(INPUT_FILE, 'r')\n",
    "maxlen = 0\n",
    "for line in fin:\n",
    "    _, sent = line.strip().split('\\t')\n",
    "    words = [x.lower() for x in nltk.word_tokenize(sent)]\n",
    "    if len(words) > maxlen:\n",
    "        maxlen = len(words)\n",
    "    for word in words:\n",
    "        counter[word] += 1\n",
    "fin.close()\n",
    "\n",
    "word2index = collections.defaultdict(int)\n",
    "for wid, word in enumerate(counter.most_common(VOCAB_SIZE)):\n",
    "    word2index[word[0]] = wid + 1\n",
    "vocab_size = len(word2index) + 1\n",
    "index2word = {v:k for k, v in word2index.items()}"
   ]
  },
  {
   "cell_type": "markdown",
   "metadata": {},
   "source": [
    "**Here I make my dependent and independent variables, with the words in the dependent variable (tweets) tokenized. I also \"pad\" the tweets at 100 words. This will add zeros at the end of tweets less than 100 words, and cut off tweets longer than 100 words after the hundredth.**"
   ]
  },
  {
   "cell_type": "code",
   "execution_count": 5,
   "metadata": {},
   "outputs": [],
   "source": [
    "xs, ys = [], []\n",
    "fin = open(INPUT_FILE, 'r')\n",
    "for line in fin:\n",
    "    label, sent = line.strip().split('\\t')\n",
    "    ys.append(int(label))\n",
    "    words = [x for x in nltk.word_tokenize(sent)]\n",
    "    wids = [word2index[word] for word in words]\n",
    "    xs.append(wids)\n",
    "fin.close()\n",
    "X = pad_sequences(xs, maxlen=100)\n",
    "y = np_utils.to_categorical(ys)"
   ]
  },
  {
   "cell_type": "code",
   "execution_count": 6,
   "metadata": {},
   "outputs": [
    {
     "name": "stdout",
     "output_type": "stream",
     "text": [
      "[[ 0.  0.  1.]\n",
      " [ 0.  1.  0.]\n",
      " [ 0.  1.  0.]\n",
      " ..., \n",
      " [ 0.  1.  0.]\n",
      " [ 0.  1.  0.]\n",
      " [ 0.  0.  1.]]\n"
     ]
    }
   ],
   "source": [
    "print(y)"
   ]
  },
  {
   "cell_type": "markdown",
   "metadata": {},
   "source": [
    "**In the next 2 cells I perform 2 splits. The first is 80:20. My lists of dependent variables (tweets) are split into 2 grourps, with the 80% group becoming my training data. In the second I split the 20% testing set in half. One half will be the validation data for the model, the other half will be used for predictions to get an F1 score.**"
   ]
  },
  {
   "cell_type": "code",
   "execution_count": 7,
   "metadata": {},
   "outputs": [],
   "source": [
    "FIRST_VALIDATION_SPLIT = 0.2\n",
    "SECOND_VALIDATION_SPLIT = 0.5\n",
    "MAX_SEQUENCE_LENGTH = 100"
   ]
  },
  {
   "cell_type": "code",
   "execution_count": 8,
   "metadata": {},
   "outputs": [],
   "source": [
    "first_indices = np.arange(X.shape[0])\n",
    "np.random.shuffle(first_indices)\n",
    "data = X[first_indices]\n",
    "labels = y[first_indices]\n",
    "nb_validation_samples_1 = int(FIRST_VALIDATION_SPLIT * data.shape[0])\n",
    "\n",
    "X_train = data[:-nb_validation_samples_1]\n",
    "y_train = labels[:-nb_validation_samples_1]\n",
    "X_val_to_divide = data[-nb_validation_samples_1:]\n",
    "y_val_to_divide = labels[-nb_validation_samples_1:]\n",
    "\n",
    "second_indices = np.arange(X_val_to_divide.shape[0])\n",
    "np.random.shuffle(second_indices)\n",
    "X_val_to_divide = X_val_to_divide[second_indices]\n",
    "y_val_to_divide = y_val_to_divide[second_indices]\n",
    "nb_validation_samples_2 = int(SECOND_VALIDATION_SPLIT * X_val_to_divide.shape[0])\n",
    "\n",
    "X_val = X_val_to_divide[:-nb_validation_samples_2]\n",
    "y_val = y_val_to_divide[:-nb_validation_samples_2]\n",
    "X_hold = X_val_to_divide[-nb_validation_samples_2:]\n",
    "y_hold = y_val_to_divide[-nb_validation_samples_2:]"
   ]
  },
  {
   "cell_type": "code",
   "execution_count": 9,
   "metadata": {},
   "outputs": [
    {
     "name": "stdout",
     "output_type": "stream",
     "text": [
      "Shape of data tensor: (24783, 100)\n",
      "Shape of label tensor: (24783, 3, 2)\n"
     ]
    }
   ],
   "source": [
    "labels = to_categorical(np.asarray(y))\n",
    "print('Shape of data tensor:', data.shape)\n",
    "print('Shape of label tensor:', labels.shape)"
   ]
  },
  {
   "cell_type": "markdown",
   "metadata": {},
   "source": [
    "**Here I vectorize each word. Instead of a single word, each word becomes a 1x300 dimensional word vector with the keyedvectors gensim function, using the google news corpus. This is an example of transfer learning - where machine learning developed in one model is passed to a new model and improves it.**"
   ]
  },
  {
   "cell_type": "code",
   "execution_count": 13,
   "metadata": {},
   "outputs": [],
   "source": [
    "word2vec = gensim.models.KeyedVectors.load_word2vec_format('./GoogleNews-vectors-negative300.bin', \n",
    "                                                           binary=True)\n",
    "\n",
    "embedding_weights = np.zeros((vocab_size, EMBEDDING_DIM))\n",
    "for word, index in word2index.items():\n",
    "    try:\n",
    "        embedding_weights[index, :] = word2vec[word]\n",
    "    except KeyError:\n",
    "        pass"
   ]
  },
  {
   "cell_type": "code",
   "execution_count": 14,
   "metadata": {},
   "outputs": [],
   "source": [
    "logging.basicConfig(format='%(asctime)s : %(levelname)s : %(message)s', level=logging.INFO)\n"
   ]
  },
  {
   "cell_type": "code",
   "execution_count": 15,
   "metadata": {
    "scrolled": false
   },
   "outputs": [],
   "source": [
    "# This is a slightly modified implementation of a paper published at a conference in March 2018\n",
    "# Title: Detecting Hate Speech on Twitter Using aConvolution-GRU Based Deep Neural Network\n",
    "# Authors: Ziqi Zhang, David Robinson, and Jonathan Tepper\n",
    "BATCH = 300\n",
    "\n",
    "model = Sequential()\n",
    "\n",
    "model.add(Embedding(vocab_size, EMBEDDING_DIM, input_length=MAX_SEQUENCE_LENGTH, weights=[embedding_weights]))\n",
    "\n",
    "model.add(Dropout(0.2))\n",
    "\n",
    "model.add(Conv1D(filters=100, kernel_size=4, padding='same', activation='relu'))\n",
    "\n",
    "model.add(MaxPooling1D(pool_size=4))\n",
    "\n",
    "model.add(GRU(100, return_sequences=True))\n",
    "\n",
    "model.add(GlobalMaxPooling1D(input_shape=(25, 100)))\n",
    "\n",
    "model.add(Dense(3, activation='softmax', activity_regularizer=regularizers.l1_l2(0.01)))"
   ]
  },
  {
   "cell_type": "code",
   "execution_count": 16,
   "metadata": {},
   "outputs": [],
   "source": [
    "model.compile(loss='categorical_crossentropy', optimizer='adam', metrics=['categorical_accuracy'])"
   ]
  },
  {
   "cell_type": "code",
   "execution_count": 17,
   "metadata": {},
   "outputs": [
    {
     "name": "stdout",
     "output_type": "stream",
     "text": [
      "_________________________________________________________________\n",
      "Layer (type)                 Output Shape              Param #   \n",
      "=================================================================\n",
      "embedding_1 (Embedding)      (None, 100, 300)          3000300   \n",
      "_________________________________________________________________\n",
      "dropout_1 (Dropout)          (None, 100, 300)          0         \n",
      "_________________________________________________________________\n",
      "conv1d_1 (Conv1D)            (None, 100, 100)          120100    \n",
      "_________________________________________________________________\n",
      "max_pooling1d_1 (MaxPooling1 (None, 25, 100)           0         \n",
      "_________________________________________________________________\n",
      "gru_1 (GRU)                  (None, 25, 100)           60300     \n",
      "_________________________________________________________________\n",
      "global_max_pooling1d_1 (Glob (None, 100)               0         \n",
      "_________________________________________________________________\n",
      "dense_1 (Dense)              (None, 3)                 303       \n",
      "=================================================================\n",
      "Total params: 3,181,003\n",
      "Trainable params: 3,181,003\n",
      "Non-trainable params: 0\n",
      "_________________________________________________________________\n",
      "None\n"
     ]
    }
   ],
   "source": [
    "print(model.summary())"
   ]
  },
  {
   "cell_type": "code",
   "execution_count": 18,
   "metadata": {},
   "outputs": [
    {
     "data": {
      "image/svg+xml": [
       "<svg height=\"620pt\" viewBox=\"0.00 0.00 460.02 620.00\" width=\"460pt\" xmlns=\"http://www.w3.org/2000/svg\" xmlns:xlink=\"http://www.w3.org/1999/xlink\">\n",
       "<g class=\"graph\" id=\"graph0\" transform=\"scale(1 1) rotate(0) translate(4 616)\">\n",
       "<title>G</title>\n",
       "<polygon fill=\"white\" points=\"-4,4 -4,-616 456.024,-616 456.024,4 -4,4\" stroke=\"none\"/>\n",
       "<!-- 9823349280 -->\n",
       "<g class=\"node\" id=\"node1\"><title>9823349280</title>\n",
       "<polygon fill=\"none\" points=\"57.5688,-567.5 57.5688,-611.5 394.456,-611.5 394.456,-567.5 57.5688,-567.5\" stroke=\"black\"/>\n",
       "<text font-family=\"Times,serif\" font-size=\"14.00\" text-anchor=\"middle\" x=\"156.354\" y=\"-585.3\">embedding_1_input: InputLayer</text>\n",
       "<polyline fill=\"none\" points=\"255.138,-567.5 255.138,-611.5 \" stroke=\"black\"/>\n",
       "<text font-family=\"Times,serif\" font-size=\"14.00\" text-anchor=\"middle\" x=\"282.973\" y=\"-596.3\">input:</text>\n",
       "<polyline fill=\"none\" points=\"255.138,-589.5 310.807,-589.5 \" stroke=\"black\"/>\n",
       "<text font-family=\"Times,serif\" font-size=\"14.00\" text-anchor=\"middle\" x=\"282.973\" y=\"-574.3\">output:</text>\n",
       "<polyline fill=\"none\" points=\"310.807,-567.5 310.807,-611.5 \" stroke=\"black\"/>\n",
       "<text font-family=\"Times,serif\" font-size=\"14.00\" text-anchor=\"middle\" x=\"352.631\" y=\"-596.3\">(None, 100)</text>\n",
       "<polyline fill=\"none\" points=\"310.807,-589.5 394.456,-589.5 \" stroke=\"black\"/>\n",
       "<text font-family=\"Times,serif\" font-size=\"14.00\" text-anchor=\"middle\" x=\"352.631\" y=\"-574.3\">(None, 100)</text>\n",
       "</g>\n",
       "<!-- 9823349168 -->\n",
       "<g class=\"node\" id=\"node2\"><title>9823349168</title>\n",
       "<polygon fill=\"none\" points=\"60.2827,-486.5 60.2827,-530.5 391.742,-530.5 391.742,-486.5 60.2827,-486.5\" stroke=\"black\"/>\n",
       "<text font-family=\"Times,serif\" font-size=\"14.00\" text-anchor=\"middle\" x=\"142.354\" y=\"-504.3\">embedding_1: Embedding</text>\n",
       "<polyline fill=\"none\" points=\"224.424,-486.5 224.424,-530.5 \" stroke=\"black\"/>\n",
       "<text font-family=\"Times,serif\" font-size=\"14.00\" text-anchor=\"middle\" x=\"252.259\" y=\"-515.3\">input:</text>\n",
       "<polyline fill=\"none\" points=\"224.424,-508.5 280.093,-508.5 \" stroke=\"black\"/>\n",
       "<text font-family=\"Times,serif\" font-size=\"14.00\" text-anchor=\"middle\" x=\"252.259\" y=\"-493.3\">output:</text>\n",
       "<polyline fill=\"none\" points=\"280.093,-486.5 280.093,-530.5 \" stroke=\"black\"/>\n",
       "<text font-family=\"Times,serif\" font-size=\"14.00\" text-anchor=\"middle\" x=\"335.917\" y=\"-515.3\">(None, 100)</text>\n",
       "<polyline fill=\"none\" points=\"280.093,-508.5 391.742,-508.5 \" stroke=\"black\"/>\n",
       "<text font-family=\"Times,serif\" font-size=\"14.00\" text-anchor=\"middle\" x=\"335.917\" y=\"-493.3\">(None, 100, 300)</text>\n",
       "</g>\n",
       "<!-- 9823349280&#45;&gt;9823349168 -->\n",
       "<g class=\"edge\" id=\"edge1\"><title>9823349280-&gt;9823349168</title>\n",
       "<path d=\"M226.012,-567.329C226.012,-559.183 226.012,-549.699 226.012,-540.797\" fill=\"none\" stroke=\"black\"/>\n",
       "<polygon fill=\"black\" points=\"229.512,-540.729 226.012,-530.729 222.512,-540.729 229.512,-540.729\" stroke=\"black\"/>\n",
       "</g>\n",
       "<!-- 4976921568 -->\n",
       "<g class=\"node\" id=\"node3\"><title>4976921568</title>\n",
       "<polygon fill=\"none\" points=\"78.5518,-405.5 78.5518,-449.5 373.473,-449.5 373.473,-405.5 78.5518,-405.5\" stroke=\"black\"/>\n",
       "<text font-family=\"Times,serif\" font-size=\"14.00\" text-anchor=\"middle\" x=\"142.354\" y=\"-423.3\">dropout_1: Dropout</text>\n",
       "<polyline fill=\"none\" points=\"206.155,-405.5 206.155,-449.5 \" stroke=\"black\"/>\n",
       "<text font-family=\"Times,serif\" font-size=\"14.00\" text-anchor=\"middle\" x=\"233.99\" y=\"-434.3\">input:</text>\n",
       "<polyline fill=\"none\" points=\"206.155,-427.5 261.824,-427.5 \" stroke=\"black\"/>\n",
       "<text font-family=\"Times,serif\" font-size=\"14.00\" text-anchor=\"middle\" x=\"233.99\" y=\"-412.3\">output:</text>\n",
       "<polyline fill=\"none\" points=\"261.824,-405.5 261.824,-449.5 \" stroke=\"black\"/>\n",
       "<text font-family=\"Times,serif\" font-size=\"14.00\" text-anchor=\"middle\" x=\"317.648\" y=\"-434.3\">(None, 100, 300)</text>\n",
       "<polyline fill=\"none\" points=\"261.824,-427.5 373.473,-427.5 \" stroke=\"black\"/>\n",
       "<text font-family=\"Times,serif\" font-size=\"14.00\" text-anchor=\"middle\" x=\"317.648\" y=\"-412.3\">(None, 100, 300)</text>\n",
       "</g>\n",
       "<!-- 9823349168&#45;&gt;4976921568 -->\n",
       "<g class=\"edge\" id=\"edge2\"><title>9823349168-&gt;4976921568</title>\n",
       "<path d=\"M226.012,-486.329C226.012,-478.183 226.012,-468.699 226.012,-459.797\" fill=\"none\" stroke=\"black\"/>\n",
       "<polygon fill=\"black\" points=\"229.512,-459.729 226.012,-449.729 222.512,-459.729 229.512,-459.729\" stroke=\"black\"/>\n",
       "</g>\n",
       "<!-- 4464082280 -->\n",
       "<g class=\"node\" id=\"node4\"><title>4464082280</title>\n",
       "<polygon fill=\"none\" points=\"79.3276,-324.5 79.3276,-368.5 372.697,-368.5 372.697,-324.5 79.3276,-324.5\" stroke=\"black\"/>\n",
       "<text font-family=\"Times,serif\" font-size=\"14.00\" text-anchor=\"middle\" x=\"142.354\" y=\"-342.3\">conv1d_1: Conv1D</text>\n",
       "<polyline fill=\"none\" points=\"205.379,-324.5 205.379,-368.5 \" stroke=\"black\"/>\n",
       "<text font-family=\"Times,serif\" font-size=\"14.00\" text-anchor=\"middle\" x=\"233.214\" y=\"-353.3\">input:</text>\n",
       "<polyline fill=\"none\" points=\"205.379,-346.5 261.048,-346.5 \" stroke=\"black\"/>\n",
       "<text font-family=\"Times,serif\" font-size=\"14.00\" text-anchor=\"middle\" x=\"233.214\" y=\"-331.3\">output:</text>\n",
       "<polyline fill=\"none\" points=\"261.048,-324.5 261.048,-368.5 \" stroke=\"black\"/>\n",
       "<text font-family=\"Times,serif\" font-size=\"14.00\" text-anchor=\"middle\" x=\"316.873\" y=\"-353.3\">(None, 100, 300)</text>\n",
       "<polyline fill=\"none\" points=\"261.048,-346.5 372.697,-346.5 \" stroke=\"black\"/>\n",
       "<text font-family=\"Times,serif\" font-size=\"14.00\" text-anchor=\"middle\" x=\"316.873\" y=\"-331.3\">(None, 100, 100)</text>\n",
       "</g>\n",
       "<!-- 4976921568&#45;&gt;4464082280 -->\n",
       "<g class=\"edge\" id=\"edge3\"><title>4976921568-&gt;4464082280</title>\n",
       "<path d=\"M226.012,-405.329C226.012,-397.183 226.012,-387.699 226.012,-378.797\" fill=\"none\" stroke=\"black\"/>\n",
       "<polygon fill=\"black\" points=\"229.512,-378.729 226.012,-368.729 222.512,-378.729 229.512,-378.729\" stroke=\"black\"/>\n",
       "</g>\n",
       "<!-- 9823349616 -->\n",
       "<g class=\"node\" id=\"node5\"><title>9823349616</title>\n",
       "<polygon fill=\"none\" points=\"36.5483,-243.5 36.5483,-287.5 415.476,-287.5 415.476,-243.5 36.5483,-243.5\" stroke=\"black\"/>\n",
       "<text font-family=\"Times,serif\" font-size=\"14.00\" text-anchor=\"middle\" x=\"142.354\" y=\"-261.3\">max_pooling1d_1: MaxPooling1D</text>\n",
       "<polyline fill=\"none\" points=\"248.159,-243.5 248.159,-287.5 \" stroke=\"black\"/>\n",
       "<text font-family=\"Times,serif\" font-size=\"14.00\" text-anchor=\"middle\" x=\"275.993\" y=\"-272.3\">input:</text>\n",
       "<polyline fill=\"none\" points=\"248.159,-265.5 303.828,-265.5 \" stroke=\"black\"/>\n",
       "<text font-family=\"Times,serif\" font-size=\"14.00\" text-anchor=\"middle\" x=\"275.993\" y=\"-250.3\">output:</text>\n",
       "<polyline fill=\"none\" points=\"303.828,-243.5 303.828,-287.5 \" stroke=\"black\"/>\n",
       "<text font-family=\"Times,serif\" font-size=\"14.00\" text-anchor=\"middle\" x=\"359.652\" y=\"-272.3\">(None, 100, 100)</text>\n",
       "<polyline fill=\"none\" points=\"303.828,-265.5 415.476,-265.5 \" stroke=\"black\"/>\n",
       "<text font-family=\"Times,serif\" font-size=\"14.00\" text-anchor=\"middle\" x=\"359.652\" y=\"-250.3\">(None, 25, 100)</text>\n",
       "</g>\n",
       "<!-- 4464082280&#45;&gt;9823349616 -->\n",
       "<g class=\"edge\" id=\"edge4\"><title>4464082280-&gt;9823349616</title>\n",
       "<path d=\"M226.012,-324.329C226.012,-316.183 226.012,-306.699 226.012,-297.797\" fill=\"none\" stroke=\"black\"/>\n",
       "<polygon fill=\"black\" points=\"229.512,-297.729 226.012,-287.729 222.512,-297.729 229.512,-297.729\" stroke=\"black\"/>\n",
       "</g>\n",
       "<!-- 9847590080 -->\n",
       "<g class=\"node\" id=\"node6\"><title>9847590080</title>\n",
       "<polygon fill=\"none\" points=\"103.048,-162.5 103.048,-206.5 348.976,-206.5 348.976,-162.5 103.048,-162.5\" stroke=\"black\"/>\n",
       "<text font-family=\"Times,serif\" font-size=\"14.00\" text-anchor=\"middle\" x=\"145.854\" y=\"-180.3\">gru_1: GRU</text>\n",
       "<polyline fill=\"none\" points=\"188.659,-162.5 188.659,-206.5 \" stroke=\"black\"/>\n",
       "<text font-family=\"Times,serif\" font-size=\"14.00\" text-anchor=\"middle\" x=\"216.493\" y=\"-191.3\">input:</text>\n",
       "<polyline fill=\"none\" points=\"188.659,-184.5 244.328,-184.5 \" stroke=\"black\"/>\n",
       "<text font-family=\"Times,serif\" font-size=\"14.00\" text-anchor=\"middle\" x=\"216.493\" y=\"-169.3\">output:</text>\n",
       "<polyline fill=\"none\" points=\"244.328,-162.5 244.328,-206.5 \" stroke=\"black\"/>\n",
       "<text font-family=\"Times,serif\" font-size=\"14.00\" text-anchor=\"middle\" x=\"296.652\" y=\"-191.3\">(None, 25, 100)</text>\n",
       "<polyline fill=\"none\" points=\"244.328,-184.5 348.976,-184.5 \" stroke=\"black\"/>\n",
       "<text font-family=\"Times,serif\" font-size=\"14.00\" text-anchor=\"middle\" x=\"296.652\" y=\"-169.3\">(None, 25, 100)</text>\n",
       "</g>\n",
       "<!-- 9823349616&#45;&gt;9847590080 -->\n",
       "<g class=\"edge\" id=\"edge5\"><title>9823349616-&gt;9847590080</title>\n",
       "<path d=\"M226.012,-243.329C226.012,-235.183 226.012,-225.699 226.012,-216.797\" fill=\"none\" stroke=\"black\"/>\n",
       "<polygon fill=\"black\" points=\"229.512,-216.729 226.012,-206.729 222.512,-216.729 229.512,-216.729\" stroke=\"black\"/>\n",
       "</g>\n",
       "<!-- 9896024608 -->\n",
       "<g class=\"node\" id=\"node7\"><title>9896024608</title>\n",
       "<polygon fill=\"none\" points=\"0,-81.5 0,-125.5 452.024,-125.5 452.024,-81.5 0,-81.5\" stroke=\"black\"/>\n",
       "<text font-family=\"Times,serif\" font-size=\"14.00\" text-anchor=\"middle\" x=\"145.854\" y=\"-99.3\">global_max_pooling1d_1: GlobalMaxPooling1D</text>\n",
       "<polyline fill=\"none\" points=\"291.707,-81.5 291.707,-125.5 \" stroke=\"black\"/>\n",
       "<text font-family=\"Times,serif\" font-size=\"14.00\" text-anchor=\"middle\" x=\"319.542\" y=\"-110.3\">input:</text>\n",
       "<polyline fill=\"none\" points=\"291.707,-103.5 347.376,-103.5 \" stroke=\"black\"/>\n",
       "<text font-family=\"Times,serif\" font-size=\"14.00\" text-anchor=\"middle\" x=\"319.542\" y=\"-88.3\">output:</text>\n",
       "<polyline fill=\"none\" points=\"347.376,-81.5 347.376,-125.5 \" stroke=\"black\"/>\n",
       "<text font-family=\"Times,serif\" font-size=\"14.00\" text-anchor=\"middle\" x=\"399.7\" y=\"-110.3\">(None, 25, 100)</text>\n",
       "<polyline fill=\"none\" points=\"347.376,-103.5 452.024,-103.5 \" stroke=\"black\"/>\n",
       "<text font-family=\"Times,serif\" font-size=\"14.00\" text-anchor=\"middle\" x=\"399.7\" y=\"-88.3\">(None, 100)</text>\n",
       "</g>\n",
       "<!-- 9847590080&#45;&gt;9896024608 -->\n",
       "<g class=\"edge\" id=\"edge6\"><title>9847590080-&gt;9896024608</title>\n",
       "<path d=\"M226.012,-162.329C226.012,-154.183 226.012,-144.699 226.012,-135.797\" fill=\"none\" stroke=\"black\"/>\n",
       "<polygon fill=\"black\" points=\"229.512,-135.729 226.012,-125.729 222.512,-135.729 229.512,-135.729\" stroke=\"black\"/>\n",
       "</g>\n",
       "<!-- 9896097048 -->\n",
       "<g class=\"node\" id=\"node8\"><title>9896097048</title>\n",
       "<polygon fill=\"none\" points=\"104.228,-0.5 104.228,-44.5 347.797,-44.5 347.797,-0.5 104.228,-0.5\" stroke=\"black\"/>\n",
       "<text font-family=\"Times,serif\" font-size=\"14.00\" text-anchor=\"middle\" x=\"156.354\" y=\"-18.3\">dense_1: Dense</text>\n",
       "<polyline fill=\"none\" points=\"208.479,-0.5 208.479,-44.5 \" stroke=\"black\"/>\n",
       "<text font-family=\"Times,serif\" font-size=\"14.00\" text-anchor=\"middle\" x=\"236.314\" y=\"-29.3\">input:</text>\n",
       "<polyline fill=\"none\" points=\"208.479,-22.5 264.148,-22.5 \" stroke=\"black\"/>\n",
       "<text font-family=\"Times,serif\" font-size=\"14.00\" text-anchor=\"middle\" x=\"236.314\" y=\"-7.3\">output:</text>\n",
       "<polyline fill=\"none\" points=\"264.148,-0.5 264.148,-44.5 \" stroke=\"black\"/>\n",
       "<text font-family=\"Times,serif\" font-size=\"14.00\" text-anchor=\"middle\" x=\"305.973\" y=\"-29.3\">(None, 100)</text>\n",
       "<polyline fill=\"none\" points=\"264.148,-22.5 347.797,-22.5 \" stroke=\"black\"/>\n",
       "<text font-family=\"Times,serif\" font-size=\"14.00\" text-anchor=\"middle\" x=\"305.973\" y=\"-7.3\">(None, 3)</text>\n",
       "</g>\n",
       "<!-- 9896024608&#45;&gt;9896097048 -->\n",
       "<g class=\"edge\" id=\"edge7\"><title>9896024608-&gt;9896097048</title>\n",
       "<path d=\"M226.012,-81.3294C226.012,-73.1826 226.012,-63.6991 226.012,-54.7971\" fill=\"none\" stroke=\"black\"/>\n",
       "<polygon fill=\"black\" points=\"229.512,-54.729 226.012,-44.729 222.512,-54.729 229.512,-54.729\" stroke=\"black\"/>\n",
       "</g>\n",
       "</g>\n",
       "</svg>"
      ],
      "text/plain": [
       "<IPython.core.display.SVG object>"
      ]
     },
     "execution_count": 18,
     "metadata": {},
     "output_type": "execute_result"
    }
   ],
   "source": [
    "SVG(model_to_dot(model, show_shapes=True).create(prog='dot', format='svg'))\n"
   ]
  },
  {
   "cell_type": "code",
   "execution_count": 19,
   "metadata": {},
   "outputs": [
    {
     "name": "stdout",
     "output_type": "stream",
     "text": [
      "Train on 19827 samples, validate on 2478 samples\n",
      "Epoch 1/10\n",
      "19827/19827 [==============================] - 27s 1ms/step - loss: 4.9171 - categorical_accuracy: 0.8373 - val_loss: 4.7909 - val_categorical_accuracy: 0.8910\n",
      "Epoch 2/10\n",
      "19827/19827 [==============================] - 28s 1ms/step - loss: 4.8702 - categorical_accuracy: 0.9027 - val_loss: 4.7838 - val_categorical_accuracy: 0.8943\n",
      "Epoch 3/10\n",
      "19827/19827 [==============================] - 28s 1ms/step - loss: 4.8569 - categorical_accuracy: 0.9218 - val_loss: 4.7781 - val_categorical_accuracy: 0.9052\n",
      "Epoch 4/10\n",
      "19827/19827 [==============================] - 27s 1ms/step - loss: 4.8471 - categorical_accuracy: 0.9379 - val_loss: 4.7777 - val_categorical_accuracy: 0.9068\n",
      "Epoch 5/10\n",
      "19827/19827 [==============================] - 27s 1ms/step - loss: 4.8391 - categorical_accuracy: 0.9507 - val_loss: 4.7773 - val_categorical_accuracy: 0.9052\n",
      "Epoch 6/10\n",
      "19827/19827 [==============================] - 28s 1ms/step - loss: 4.8327 - categorical_accuracy: 0.9625 - val_loss: 4.7784 - val_categorical_accuracy: 0.9052\n",
      "Epoch 7/10\n",
      "19827/19827 [==============================] - 27s 1ms/step - loss: 4.8268 - categorical_accuracy: 0.9724 - val_loss: 4.7787 - val_categorical_accuracy: 0.9056\n",
      "Epoch 8/10\n",
      "19827/19827 [==============================] - 28s 1ms/step - loss: 4.8221 - categorical_accuracy: 0.9788 - val_loss: 4.7814 - val_categorical_accuracy: 0.9007\n",
      "Epoch 9/10\n",
      "19827/19827 [==============================] - 28s 1ms/step - loss: 4.8198 - categorical_accuracy: 0.9827 - val_loss: 4.7849 - val_categorical_accuracy: 0.9003\n",
      "Epoch 10/10\n",
      "19827/19827 [==============================] - 28s 1ms/step - loss: 4.8181 - categorical_accuracy: 0.9845 - val_loss: 4.7853 - val_categorical_accuracy: 0.8983\n"
     ]
    }
   ],
   "source": [
    "history = model.fit(X_train, y_train,\n",
    "                    batch_size=BATCH,\n",
    "                    epochs=10,\n",
    "                    validation_data=(X_val, y_val))"
   ]
  },
  {
   "cell_type": "code",
   "execution_count": 20,
   "metadata": {},
   "outputs": [],
   "source": [
    "model.save_weights('./hate_detector_trained.h5')"
   ]
  },
  {
   "cell_type": "code",
   "execution_count": 21,
   "metadata": {},
   "outputs": [
    {
     "data": {
      "image/png": "[encoded data removed]",
      "text/plain": [
       "<Figure size 432x288 with 1 Axes>"
      ]
     },
     "metadata": {},
     "output_type": "display_data"
    }
   ],
   "source": [
    "train_loss = history.history['loss']\n",
    "test_loss = history.history['val_loss']\n",
    "plt.ylabel('loss')\n",
    "plt.xlabel('epoch')\n",
    "plt.plot(train_loss, label='Train Loss')\n",
    "plt.plot(test_loss, label='Test Loss')\n",
    "plt.legend()\n",
    "plt.show()"
   ]
  },
  {
   "cell_type": "code",
   "execution_count": 22,
   "metadata": {},
   "outputs": [
    {
     "data": {
      "image/png": "[encoded data removed]",
      "text/plain": [
       "<Figure size 432x288 with 1 Axes>"
      ]
     },
     "metadata": {},
     "output_type": "display_data"
    }
   ],
   "source": [
    "train_categorical_accuracy = history.history['categorical_accuracy']\n",
    "test_categorical_accuracy = history.history['val_categorical_accuracy']\n",
    "plt.ylabel('categorical accuracy')\n",
    "plt.xlabel('epoch')\n",
    "plt.plot(train_categorical_accuracy, label='Train Categorical Accuracy')\n",
    "plt.plot(test_categorical_accuracy, label='Test Categorical Accuracy')\n",
    "plt.legend()\n",
    "plt.show()"
   ]
  },
  {
   "cell_type": "code",
   "execution_count": 23,
   "metadata": {},
   "outputs": [
    {
     "data": {
      "text/plain": [
       "[4.7707153088244052, 0.91727199811335047]"
      ]
     },
     "execution_count": 23,
     "metadata": {},
     "output_type": "execute_result"
    }
   ],
   "source": [
    "model.evaluate(x=X_hold, y=y_hold, batch_size=300, verbose=0)"
   ]
  },
  {
   "cell_type": "code",
   "execution_count": null,
   "metadata": {},
   "outputs": [],
   "source": []
  },
  {
   "cell_type": "code",
   "execution_count": null,
   "metadata": {},
   "outputs": [],
   "source": []
  },
  {
   "cell_type": "code",
   "execution_count": null,
   "metadata": {},
   "outputs": [],
   "source": []
  }
 ],
 "metadata": {
  "anaconda-cloud": {},
  "kernelspec": {
   "display_name": "Python [conda env:tensorflow36]",
   "language": "python",
   "name": "conda-env-tensorflow36-py"
  },
  "language_info": {
   "codemirror_mode": {
    "name": "ipython",
    "version": 3
   },
   "file_extension": ".py",
   "mimetype": "text/x-python",
   "name": "python",
   "nbconvert_exporter": "python",
   "pygments_lexer": "ipython3",
   "version": "3.6.5"
  }
 },
 "nbformat": 4,
 "nbformat_minor": 2
}
