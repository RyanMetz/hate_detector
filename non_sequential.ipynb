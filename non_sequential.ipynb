{
 "cells": [
  {
   "cell_type": "code",
   "execution_count": 1,
   "metadata": {},
   "outputs": [
    {
     "name": "stderr",
     "output_type": "stream",
     "text": [
      "Using TensorFlow backend.\n"
     ]
    }
   ],
   "source": [
    "import pandas as pd\n",
    "import numpy as np\n",
    "import matplotlib.pyplot as plt\n",
    "import logging\n",
    "import nltk\n",
    "import os\n",
    "import collections\n",
    "import gensim\n",
    "from gensim.models import KeyedVectors\n",
    "\n",
    "from keras import backend\n",
    "from keras.utils import np_utils\n",
    "from keras.preprocessing.text import text_to_word_sequence\n",
    "from keras.preprocessing.sequence import pad_sequences\n",
    "from keras.utils import to_categorical, plot_model\n",
    "from keras.models import Model\n",
    "from keras.layers.merge import concatenate\n",
    "from keras.layers import Input, Embedding, Dropout, Conv1D, MaxPooling1D, GRU, GlobalMaxPooling1D, Dense, Flatten\n",
    "from keras import regularizers\n",
    "from keras import metrics\n",
    "from keras.utils.vis_utils import model_to_dot\n",
    "import h5py\n",
    "\n",
    "from IPython.display import SVG"
   ]
  },
  {
   "cell_type": "markdown",
   "metadata": {},
   "source": [
    "word_vec_input = Input(shape=(vocab_size, EMBEDDING_DIM, input_length=MAX_SEQUENCE_LENGTH, \n",
    "                              weights=[embedding_weights]))\n",
    "\n",
    "drop_out = Dropout(0.2)(word_vec_input)\n",
    "\n",
    "conv_1d = Conv1D(filters=100, kernel_size=4, padding='same', activation='relu')(drop_out)\n",
    "\n",
    "max_pool = MaxPooling1D(pool_size=4)(conv_1d)\n",
    "\n",
    "gru = GRU(100, return_sequences=True)(max_pool)\n",
    "\n",
    "glob_max_pool = GlobalMaxPooling1D(input_shape=(25, 100))(gru)\n",
    "\n"
   ]
  },
  {
   "cell_type": "markdown",
   "metadata": {},
   "source": [
    "lin_classer_input = Input(shape=(2,1))\n",
    "\n",
    "hidden_lin_classer = Dense(3, activation='softmax')(lin_classer_input)\n"
   ]
  },
  {
   "cell_type": "markdown",
   "metadata": {},
   "source": [
    "merge_layer = concatenate([glob_max_pool, hidden_lin_classer])\n",
    "\n",
    "hidden_merge = Dense(3, activation='relu')(merge_layer)\n"
   ]
  },
  {
   "cell_type": "markdown",
   "metadata": {},
   "source": [
    "output_layer = Dense(3, activation='softmax', activity_regularizer=regularizers.l1_l2(0.01))(hidden_merge)\n"
   ]
  },
  {
   "cell_type": "code",
   "execution_count": 2,
   "metadata": {},
   "outputs": [],
   "source": [
    "INPUT_FILE = './text_for_gensim.txt'\n",
    "\n",
    "WORD2VEC_MODEL = \"./GoogleNews-vectors-negative300.bin\"\n",
    "VOCAB_SIZE = 10000\n",
    "EMBEDDING_DIM = 300\n",
    "NUM_FILTERS = 100\n",
    "NUM_WORDS = 4\n",
    "BATCH_SIZE = 300"
   ]
  },
  {
   "cell_type": "code",
   "execution_count": 3,
   "metadata": {},
   "outputs": [],
   "source": [
    "counter = collections.Counter()\n",
    "fin = open(INPUT_FILE, 'r')\n",
    "maxlen = 0\n",
    "for line in fin:\n",
    "    _, sent = line.strip().split('\\t')\n",
    "    words = [x.lower() for x in nltk.word_tokenize(sent)]\n",
    "    if len(words) > maxlen:\n",
    "        maxlen = len(words)\n",
    "    for word in words:\n",
    "        counter[word] += 1\n",
    "fin.close()\n",
    "\n",
    "word2index = collections.defaultdict(int)\n",
    "for wid, word in enumerate(counter.most_common(VOCAB_SIZE)):\n",
    "    word2index[word[0]] = wid + 1\n",
    "vocab_size = len(word2index) + 1\n",
    "index2word = {v:k for k, v in word2index.items()}"
   ]
  },
  {
   "cell_type": "code",
   "execution_count": 4,
   "metadata": {},
   "outputs": [],
   "source": [
    "xs, ys = [], []\n",
    "fin = open(INPUT_FILE, 'r')\n",
    "for line in fin:\n",
    "    label, sent = line.strip().split('\\t')\n",
    "    ys.append(int(label))\n",
    "    words = [x for x in nltk.word_tokenize(sent)]\n",
    "    wids = [word2index[word] for word in words]\n",
    "    xs.append(wids)\n",
    "fin.close()\n",
    "X = pad_sequences(xs, maxlen=100)\n",
    "y = np_utils.to_categorical(ys)"
   ]
  },
  {
   "cell_type": "code",
   "execution_count": 5,
   "metadata": {},
   "outputs": [],
   "source": [
    "FIRST_VALIDATION_SPLIT = 0.2\n",
    "SECOND_VALIDATION_SPLIT = 0.5\n",
    "MAX_SEQUENCE_LENGTH = 100"
   ]
  },
  {
   "cell_type": "code",
   "execution_count": 6,
   "metadata": {},
   "outputs": [],
   "source": [
    "first_indices = np.arange(X.shape[0])\n",
    "np.random.shuffle(first_indices)\n",
    "data = X[first_indices]\n",
    "labels = y[first_indices]\n",
    "nb_validation_samples_1 = int(FIRST_VALIDATION_SPLIT * data.shape[0])\n",
    "\n",
    "X_train = data[:-nb_validation_samples_1]\n",
    "y_train = labels[:-nb_validation_samples_1]\n",
    "X_val_to_divide = data[-nb_validation_samples_1:]\n",
    "y_val_to_divide = labels[-nb_validation_samples_1:]\n",
    "\n",
    "second_indices = np.arange(X_val_to_divide.shape[0])\n",
    "np.random.shuffle(second_indices)\n",
    "X_val_to_divide = X_val_to_divide[second_indices]\n",
    "y_val_to_divide = y_val_to_divide[second_indices]\n",
    "nb_validation_samples_2 = int(SECOND_VALIDATION_SPLIT * X_val_to_divide.shape[0])\n",
    "\n",
    "X_val = X_val_to_divide[:-nb_validation_samples_2]\n",
    "y_val = y_val_to_divide[:-nb_validation_samples_2]\n",
    "X_hold = X_val_to_divide[-nb_validation_samples_2:]\n",
    "y_hold = y_val_to_divide[-nb_validation_samples_2:]"
   ]
  },
  {
   "cell_type": "code",
   "execution_count": 7,
   "metadata": {},
   "outputs": [
    {
     "name": "stdout",
     "output_type": "stream",
     "text": [
      "Shape of data tensor: (24783, 100)\n",
      "Shape of label tensor: (24783, 3, 2)\n"
     ]
    }
   ],
   "source": [
    "labels = to_categorical(np.asarray(y))\n",
    "print('Shape of data tensor:', data.shape)\n",
    "print('Shape of label tensor:', labels.shape)"
   ]
  },
  {
   "cell_type": "code",
   "execution_count": 8,
   "metadata": {},
   "outputs": [],
   "source": [
    "word2vec = gensim.models.KeyedVectors.load_word2vec_format('./GoogleNews-vectors-negative300.bin', \n",
    "                                                           binary=True)\n",
    "\n",
    "embedding_weights = np.zeros((vocab_size, EMBEDDING_DIM))\n",
    "for word, index in word2index.items():\n",
    "    try:\n",
    "        embedding_weights[index, :] = word2vec[word]\n",
    "    except KeyError:\n",
    "        pass"
   ]
  },
  {
   "cell_type": "code",
   "execution_count": 9,
   "metadata": {},
   "outputs": [],
   "source": [
    "logging.basicConfig(format='%(asctime)s : %(levelname)s : %(message)s', level=logging.INFO)\n"
   ]
  },
  {
   "cell_type": "code",
   "execution_count": 10,
   "metadata": {},
   "outputs": [
    {
     "name": "stdout",
     "output_type": "stream",
     "text": [
      "10001 300 100\n"
     ]
    }
   ],
   "source": [
    "print(vocab_size, EMBEDDING_DIM, MAX_SEQUENCE_LENGTH)"
   ]
  },
  {
   "cell_type": "code",
   "execution_count": 12,
   "metadata": {},
   "outputs": [
    {
     "name": "stdout",
     "output_type": "stream",
     "text": [
      "__________________________________________________________________________________________________\n",
      "Layer (type)                    Output Shape         Param #     Connected to                     \n",
      "==================================================================================================\n",
      "input_3 (InputLayer)            (None, 100, 300)     0                                            \n",
      "__________________________________________________________________________________________________\n",
      "dropout_2 (Dropout)             (None, 100, 300)     0           input_3[0][0]                    \n",
      "__________________________________________________________________________________________________\n",
      "conv1d_2 (Conv1D)               (None, 100, 100)     120100      dropout_2[0][0]                  \n",
      "__________________________________________________________________________________________________\n",
      "max_pooling1d_2 (MaxPooling1D)  (None, 25, 100)      0           conv1d_2[0][0]                   \n",
      "__________________________________________________________________________________________________\n",
      "input_4 (InputLayer)            (None, 2, 1)         0                                            \n",
      "__________________________________________________________________________________________________\n",
      "gru_2 (GRU)                     (None, 25, 100)      60300       max_pooling1d_2[0][0]            \n",
      "__________________________________________________________________________________________________\n",
      "dense_4 (Dense)                 (None, 2, 3)         6           input_4[0][0]                    \n",
      "__________________________________________________________________________________________________\n",
      "global_max_pooling1d_2 (GlobalM (None, 100)          0           gru_2[0][0]                      \n",
      "__________________________________________________________________________________________________\n",
      "flatten_2 (Flatten)             (None, 6)            0           dense_4[0][0]                    \n",
      "__________________________________________________________________________________________________\n",
      "concatenate_2 (Concatenate)     (None, 106)          0           global_max_pooling1d_2[0][0]     \n",
      "                                                                 flatten_2[0][0]                  \n",
      "__________________________________________________________________________________________________\n",
      "dense_5 (Dense)                 (None, 106)          11342       concatenate_2[0][0]              \n",
      "__________________________________________________________________________________________________\n",
      "dense_6 (Dense)                 (None, 3)            321         dense_5[0][0]                    \n",
      "==================================================================================================\n",
      "Total params: 192,069\n",
      "Trainable params: 192,069\n",
      "Non-trainable params: 0\n",
      "__________________________________________________________________________________________________\n",
      "None\n",
      "<IPython.core.display.SVG object>\n"
     ]
    }
   ],
   "source": [
    "word_vec_input = Input(shape=(100, 300))\n",
    "                             # weights=[embedding_weights])\n",
    "\n",
    "drop_out = Dropout(0.2)(word_vec_input)\n",
    "\n",
    "conv_1d = Conv1D(filters=100, kernel_size=4, padding='same', activation='relu')(drop_out)\n",
    "\n",
    "max_pool = MaxPooling1D(pool_size=4)(conv_1d)\n",
    "\n",
    "gru = GRU(100, return_sequences=True)(max_pool)\n",
    "\n",
    "glob_max_pool = GlobalMaxPooling1D(input_shape=(25, 100))(gru)\n",
    "\n",
    "lin_classer_input = Input(shape=(2,1))\n",
    "\n",
    "hidden_lin_classer = Dense(3, activation='softmax')(lin_classer_input)\n",
    "\n",
    "flattened = Flatten()(hidden_lin_classer)\n",
    "\n",
    "merge_layer = concatenate([glob_max_pool, flattened])\n",
    "\n",
    "hidden_merge = Dense(106, activation='relu')(merge_layer)\n",
    "\n",
    "output = Dense(3, activation='softmax', activity_regularizer=regularizers.l1_l2(0.01))(hidden_merge)\n",
    "\n",
    "model = Model(inputs=[word_vec_input, lin_classer_input], outputs=output)\n",
    "\n",
    "print(model.summary())"
   ]
  },
  {
   "cell_type": "code",
   "execution_count": 13,
   "metadata": {},
   "outputs": [
    {
     "data": {
      "image/svg+xml": [
       "<svg height=\"701pt\" viewBox=\"0.00 0.00 736.85 701.00\" width=\"737pt\" xmlns=\"http://www.w3.org/2000/svg\" xmlns:xlink=\"http://www.w3.org/1999/xlink\">\n",
       "<g class=\"graph\" id=\"graph0\" transform=\"scale(1 1) rotate(0) translate(4 697)\">\n",
       "<title>G</title>\n",
       "<polygon fill=\"white\" points=\"-4,4 -4,-697 732.852,-697 732.852,4 -4,4\" stroke=\"none\"/>\n",
       "<!-- 9889187432 -->\n",
       "<g class=\"node\" id=\"node1\"><title>9889187432</title>\n",
       "<polygon fill=\"none\" points=\"78.1724,-648.5 78.1724,-692.5 373.852,-692.5 373.852,-648.5 78.1724,-648.5\" stroke=\"black\"/>\n",
       "<text font-family=\"Times,serif\" font-size=\"14.00\" text-anchor=\"middle\" x=\"142.354\" y=\"-666.3\">input_3: InputLayer</text>\n",
       "<polyline fill=\"none\" points=\"206.535,-648.5 206.535,-692.5 \" stroke=\"black\"/>\n",
       "<text font-family=\"Times,serif\" font-size=\"14.00\" text-anchor=\"middle\" x=\"234.369\" y=\"-677.3\">input:</text>\n",
       "<polyline fill=\"none\" points=\"206.535,-670.5 262.204,-670.5 \" stroke=\"black\"/>\n",
       "<text font-family=\"Times,serif\" font-size=\"14.00\" text-anchor=\"middle\" x=\"234.369\" y=\"-655.3\">output:</text>\n",
       "<polyline fill=\"none\" points=\"262.204,-648.5 262.204,-692.5 \" stroke=\"black\"/>\n",
       "<text font-family=\"Times,serif\" font-size=\"14.00\" text-anchor=\"middle\" x=\"318.028\" y=\"-677.3\">(None, 100, 300)</text>\n",
       "<polyline fill=\"none\" points=\"262.204,-670.5 373.852,-670.5 \" stroke=\"black\"/>\n",
       "<text font-family=\"Times,serif\" font-size=\"14.00\" text-anchor=\"middle\" x=\"318.028\" y=\"-655.3\">(None, 100, 300)</text>\n",
       "</g>\n",
       "<!-- 9889187544 -->\n",
       "<g class=\"node\" id=\"node2\"><title>9889187544</title>\n",
       "<polygon fill=\"none\" points=\"78.5518,-567.5 78.5518,-611.5 373.473,-611.5 373.473,-567.5 78.5518,-567.5\" stroke=\"black\"/>\n",
       "<text font-family=\"Times,serif\" font-size=\"14.00\" text-anchor=\"middle\" x=\"142.354\" y=\"-585.3\">dropout_2: Dropout</text>\n",
       "<polyline fill=\"none\" points=\"206.155,-567.5 206.155,-611.5 \" stroke=\"black\"/>\n",
       "<text font-family=\"Times,serif\" font-size=\"14.00\" text-anchor=\"middle\" x=\"233.99\" y=\"-596.3\">input:</text>\n",
       "<polyline fill=\"none\" points=\"206.155,-589.5 261.824,-589.5 \" stroke=\"black\"/>\n",
       "<text font-family=\"Times,serif\" font-size=\"14.00\" text-anchor=\"middle\" x=\"233.99\" y=\"-574.3\">output:</text>\n",
       "<polyline fill=\"none\" points=\"261.824,-567.5 261.824,-611.5 \" stroke=\"black\"/>\n",
       "<text font-family=\"Times,serif\" font-size=\"14.00\" text-anchor=\"middle\" x=\"317.648\" y=\"-596.3\">(None, 100, 300)</text>\n",
       "<polyline fill=\"none\" points=\"261.824,-589.5 373.473,-589.5 \" stroke=\"black\"/>\n",
       "<text font-family=\"Times,serif\" font-size=\"14.00\" text-anchor=\"middle\" x=\"317.648\" y=\"-574.3\">(None, 100, 300)</text>\n",
       "</g>\n",
       "<!-- 9889187432&#45;&gt;9889187544 -->\n",
       "<g class=\"edge\" id=\"edge1\"><title>9889187432-&gt;9889187544</title>\n",
       "<path d=\"M226.012,-648.329C226.012,-640.183 226.012,-630.699 226.012,-621.797\" fill=\"none\" stroke=\"black\"/>\n",
       "<polygon fill=\"black\" points=\"229.512,-621.729 226.012,-611.729 222.512,-621.729 229.512,-621.729\" stroke=\"black\"/>\n",
       "</g>\n",
       "<!-- 9889188160 -->\n",
       "<g class=\"node\" id=\"node3\"><title>9889188160</title>\n",
       "<polygon fill=\"none\" points=\"79.3276,-486.5 79.3276,-530.5 372.697,-530.5 372.697,-486.5 79.3276,-486.5\" stroke=\"black\"/>\n",
       "<text font-family=\"Times,serif\" font-size=\"14.00\" text-anchor=\"middle\" x=\"142.354\" y=\"-504.3\">conv1d_2: Conv1D</text>\n",
       "<polyline fill=\"none\" points=\"205.379,-486.5 205.379,-530.5 \" stroke=\"black\"/>\n",
       "<text font-family=\"Times,serif\" font-size=\"14.00\" text-anchor=\"middle\" x=\"233.214\" y=\"-515.3\">input:</text>\n",
       "<polyline fill=\"none\" points=\"205.379,-508.5 261.048,-508.5 \" stroke=\"black\"/>\n",
       "<text font-family=\"Times,serif\" font-size=\"14.00\" text-anchor=\"middle\" x=\"233.214\" y=\"-493.3\">output:</text>\n",
       "<polyline fill=\"none\" points=\"261.048,-486.5 261.048,-530.5 \" stroke=\"black\"/>\n",
       "<text font-family=\"Times,serif\" font-size=\"14.00\" text-anchor=\"middle\" x=\"316.873\" y=\"-515.3\">(None, 100, 300)</text>\n",
       "<polyline fill=\"none\" points=\"261.048,-508.5 372.697,-508.5 \" stroke=\"black\"/>\n",
       "<text font-family=\"Times,serif\" font-size=\"14.00\" text-anchor=\"middle\" x=\"316.873\" y=\"-493.3\">(None, 100, 100)</text>\n",
       "</g>\n",
       "<!-- 9889187544&#45;&gt;9889188160 -->\n",
       "<g class=\"edge\" id=\"edge2\"><title>9889187544-&gt;9889188160</title>\n",
       "<path d=\"M226.012,-567.329C226.012,-559.183 226.012,-549.699 226.012,-540.797\" fill=\"none\" stroke=\"black\"/>\n",
       "<polygon fill=\"black\" points=\"229.512,-540.729 226.012,-530.729 222.512,-540.729 229.512,-540.729\" stroke=\"black\"/>\n",
       "</g>\n",
       "<!-- 9889187768 -->\n",
       "<g class=\"node\" id=\"node4\"><title>9889187768</title>\n",
       "<polygon fill=\"none\" points=\"36.5483,-405.5 36.5483,-449.5 415.476,-449.5 415.476,-405.5 36.5483,-405.5\" stroke=\"black\"/>\n",
       "<text font-family=\"Times,serif\" font-size=\"14.00\" text-anchor=\"middle\" x=\"142.354\" y=\"-423.3\">max_pooling1d_2: MaxPooling1D</text>\n",
       "<polyline fill=\"none\" points=\"248.159,-405.5 248.159,-449.5 \" stroke=\"black\"/>\n",
       "<text font-family=\"Times,serif\" font-size=\"14.00\" text-anchor=\"middle\" x=\"275.993\" y=\"-434.3\">input:</text>\n",
       "<polyline fill=\"none\" points=\"248.159,-427.5 303.828,-427.5 \" stroke=\"black\"/>\n",
       "<text font-family=\"Times,serif\" font-size=\"14.00\" text-anchor=\"middle\" x=\"275.993\" y=\"-412.3\">output:</text>\n",
       "<polyline fill=\"none\" points=\"303.828,-405.5 303.828,-449.5 \" stroke=\"black\"/>\n",
       "<text font-family=\"Times,serif\" font-size=\"14.00\" text-anchor=\"middle\" x=\"359.652\" y=\"-434.3\">(None, 100, 100)</text>\n",
       "<polyline fill=\"none\" points=\"303.828,-427.5 415.476,-427.5 \" stroke=\"black\"/>\n",
       "<text font-family=\"Times,serif\" font-size=\"14.00\" text-anchor=\"middle\" x=\"359.652\" y=\"-412.3\">(None, 25, 100)</text>\n",
       "</g>\n",
       "<!-- 9889188160&#45;&gt;9889187768 -->\n",
       "<g class=\"edge\" id=\"edge3\"><title>9889188160-&gt;9889187768</title>\n",
       "<path d=\"M226.012,-486.329C226.012,-478.183 226.012,-468.699 226.012,-459.797\" fill=\"none\" stroke=\"black\"/>\n",
       "<polygon fill=\"black\" points=\"229.512,-459.729 226.012,-449.729 222.512,-459.729 229.512,-459.729\" stroke=\"black\"/>\n",
       "</g>\n",
       "<!-- 9889189616 -->\n",
       "<g class=\"node\" id=\"node6\"><title>9889189616</title>\n",
       "<polygon fill=\"none\" points=\"103.048,-324.5 103.048,-368.5 348.976,-368.5 348.976,-324.5 103.048,-324.5\" stroke=\"black\"/>\n",
       "<text font-family=\"Times,serif\" font-size=\"14.00\" text-anchor=\"middle\" x=\"145.854\" y=\"-342.3\">gru_2: GRU</text>\n",
       "<polyline fill=\"none\" points=\"188.659,-324.5 188.659,-368.5 \" stroke=\"black\"/>\n",
       "<text font-family=\"Times,serif\" font-size=\"14.00\" text-anchor=\"middle\" x=\"216.493\" y=\"-353.3\">input:</text>\n",
       "<polyline fill=\"none\" points=\"188.659,-346.5 244.328,-346.5 \" stroke=\"black\"/>\n",
       "<text font-family=\"Times,serif\" font-size=\"14.00\" text-anchor=\"middle\" x=\"216.493\" y=\"-331.3\">output:</text>\n",
       "<polyline fill=\"none\" points=\"244.328,-324.5 244.328,-368.5 \" stroke=\"black\"/>\n",
       "<text font-family=\"Times,serif\" font-size=\"14.00\" text-anchor=\"middle\" x=\"296.652\" y=\"-353.3\">(None, 25, 100)</text>\n",
       "<polyline fill=\"none\" points=\"244.328,-346.5 348.976,-346.5 \" stroke=\"black\"/>\n",
       "<text font-family=\"Times,serif\" font-size=\"14.00\" text-anchor=\"middle\" x=\"296.652\" y=\"-331.3\">(None, 25, 100)</text>\n",
       "</g>\n",
       "<!-- 9889187768&#45;&gt;9889189616 -->\n",
       "<g class=\"edge\" id=\"edge4\"><title>9889187768-&gt;9889189616</title>\n",
       "<path d=\"M226.012,-405.329C226.012,-397.183 226.012,-387.699 226.012,-378.797\" fill=\"none\" stroke=\"black\"/>\n",
       "<polygon fill=\"black\" points=\"229.512,-378.729 226.012,-368.729 222.512,-378.729 229.512,-378.729\" stroke=\"black\"/>\n",
       "</g>\n",
       "<!-- 9889152528 -->\n",
       "<g class=\"node\" id=\"node5\"><title>9889152528</title>\n",
       "<polygon fill=\"none\" points=\"461.172,-405.5 461.172,-449.5 728.852,-449.5 728.852,-405.5 461.172,-405.5\" stroke=\"black\"/>\n",
       "<text font-family=\"Times,serif\" font-size=\"14.00\" text-anchor=\"middle\" x=\"525.354\" y=\"-423.3\">input_4: InputLayer</text>\n",
       "<polyline fill=\"none\" points=\"589.535,-405.5 589.535,-449.5 \" stroke=\"black\"/>\n",
       "<text font-family=\"Times,serif\" font-size=\"14.00\" text-anchor=\"middle\" x=\"617.369\" y=\"-434.3\">input:</text>\n",
       "<polyline fill=\"none\" points=\"589.535,-427.5 645.204,-427.5 \" stroke=\"black\"/>\n",
       "<text font-family=\"Times,serif\" font-size=\"14.00\" text-anchor=\"middle\" x=\"617.369\" y=\"-412.3\">output:</text>\n",
       "<polyline fill=\"none\" points=\"645.204,-405.5 645.204,-449.5 \" stroke=\"black\"/>\n",
       "<text font-family=\"Times,serif\" font-size=\"14.00\" text-anchor=\"middle\" x=\"687.028\" y=\"-434.3\">(None, 2, 1)</text>\n",
       "<polyline fill=\"none\" points=\"645.204,-427.5 728.852,-427.5 \" stroke=\"black\"/>\n",
       "<text font-family=\"Times,serif\" font-size=\"14.00\" text-anchor=\"middle\" x=\"687.028\" y=\"-412.3\">(None, 2, 1)</text>\n",
       "</g>\n",
       "<!-- 9889050920 -->\n",
       "<g class=\"node\" id=\"node7\"><title>9889050920</title>\n",
       "<polygon fill=\"none\" points=\"473.228,-324.5 473.228,-368.5 716.797,-368.5 716.797,-324.5 473.228,-324.5\" stroke=\"black\"/>\n",
       "<text font-family=\"Times,serif\" font-size=\"14.00\" text-anchor=\"middle\" x=\"525.354\" y=\"-342.3\">dense_4: Dense</text>\n",
       "<polyline fill=\"none\" points=\"577.479,-324.5 577.479,-368.5 \" stroke=\"black\"/>\n",
       "<text font-family=\"Times,serif\" font-size=\"14.00\" text-anchor=\"middle\" x=\"605.314\" y=\"-353.3\">input:</text>\n",
       "<polyline fill=\"none\" points=\"577.479,-346.5 633.148,-346.5 \" stroke=\"black\"/>\n",
       "<text font-family=\"Times,serif\" font-size=\"14.00\" text-anchor=\"middle\" x=\"605.314\" y=\"-331.3\">output:</text>\n",
       "<polyline fill=\"none\" points=\"633.148,-324.5 633.148,-368.5 \" stroke=\"black\"/>\n",
       "<text font-family=\"Times,serif\" font-size=\"14.00\" text-anchor=\"middle\" x=\"674.973\" y=\"-353.3\">(None, 2, 1)</text>\n",
       "<polyline fill=\"none\" points=\"633.148,-346.5 716.797,-346.5 \" stroke=\"black\"/>\n",
       "<text font-family=\"Times,serif\" font-size=\"14.00\" text-anchor=\"middle\" x=\"674.973\" y=\"-331.3\">(None, 2, 3)</text>\n",
       "</g>\n",
       "<!-- 9889152528&#45;&gt;9889050920 -->\n",
       "<g class=\"edge\" id=\"edge5\"><title>9889152528-&gt;9889050920</title>\n",
       "<path d=\"M595.012,-405.329C595.012,-397.183 595.012,-387.699 595.012,-378.797\" fill=\"none\" stroke=\"black\"/>\n",
       "<polygon fill=\"black\" points=\"598.512,-378.729 595.012,-368.729 591.512,-378.729 598.512,-378.729\" stroke=\"black\"/>\n",
       "</g>\n",
       "<!-- 9889169480 -->\n",
       "<g class=\"node\" id=\"node8\"><title>9889169480</title>\n",
       "<polygon fill=\"none\" points=\"0,-243.5 0,-287.5 452.024,-287.5 452.024,-243.5 0,-243.5\" stroke=\"black\"/>\n",
       "<text font-family=\"Times,serif\" font-size=\"14.00\" text-anchor=\"middle\" x=\"145.854\" y=\"-261.3\">global_max_pooling1d_2: GlobalMaxPooling1D</text>\n",
       "<polyline fill=\"none\" points=\"291.707,-243.5 291.707,-287.5 \" stroke=\"black\"/>\n",
       "<text font-family=\"Times,serif\" font-size=\"14.00\" text-anchor=\"middle\" x=\"319.542\" y=\"-272.3\">input:</text>\n",
       "<polyline fill=\"none\" points=\"291.707,-265.5 347.376,-265.5 \" stroke=\"black\"/>\n",
       "<text font-family=\"Times,serif\" font-size=\"14.00\" text-anchor=\"middle\" x=\"319.542\" y=\"-250.3\">output:</text>\n",
       "<polyline fill=\"none\" points=\"347.376,-243.5 347.376,-287.5 \" stroke=\"black\"/>\n",
       "<text font-family=\"Times,serif\" font-size=\"14.00\" text-anchor=\"middle\" x=\"399.7\" y=\"-272.3\">(None, 25, 100)</text>\n",
       "<polyline fill=\"none\" points=\"347.376,-265.5 452.024,-265.5 \" stroke=\"black\"/>\n",
       "<text font-family=\"Times,serif\" font-size=\"14.00\" text-anchor=\"middle\" x=\"399.7\" y=\"-250.3\">(None, 100)</text>\n",
       "</g>\n",
       "<!-- 9889189616&#45;&gt;9889169480 -->\n",
       "<g class=\"edge\" id=\"edge6\"><title>9889189616-&gt;9889169480</title>\n",
       "<path d=\"M226.012,-324.329C226.012,-316.183 226.012,-306.699 226.012,-297.797\" fill=\"none\" stroke=\"black\"/>\n",
       "<polygon fill=\"black\" points=\"229.512,-297.729 226.012,-287.729 222.512,-297.729 229.512,-297.729\" stroke=\"black\"/>\n",
       "</g>\n",
       "<!-- 9889150400 -->\n",
       "<g class=\"node\" id=\"node9\"><title>9889150400</title>\n",
       "<polygon fill=\"none\" points=\"469.721,-243.5 469.721,-287.5 720.304,-287.5 720.304,-243.5 469.721,-243.5\" stroke=\"black\"/>\n",
       "<text font-family=\"Times,serif\" font-size=\"14.00\" text-anchor=\"middle\" x=\"525.354\" y=\"-261.3\">flatten_2: Flatten</text>\n",
       "<polyline fill=\"none\" points=\"580.986,-243.5 580.986,-287.5 \" stroke=\"black\"/>\n",
       "<text font-family=\"Times,serif\" font-size=\"14.00\" text-anchor=\"middle\" x=\"608.821\" y=\"-272.3\">input:</text>\n",
       "<polyline fill=\"none\" points=\"580.986,-265.5 636.655,-265.5 \" stroke=\"black\"/>\n",
       "<text font-family=\"Times,serif\" font-size=\"14.00\" text-anchor=\"middle\" x=\"608.821\" y=\"-250.3\">output:</text>\n",
       "<polyline fill=\"none\" points=\"636.655,-243.5 636.655,-287.5 \" stroke=\"black\"/>\n",
       "<text font-family=\"Times,serif\" font-size=\"14.00\" text-anchor=\"middle\" x=\"678.479\" y=\"-272.3\">(None, 2, 3)</text>\n",
       "<polyline fill=\"none\" points=\"636.655,-265.5 720.304,-265.5 \" stroke=\"black\"/>\n",
       "<text font-family=\"Times,serif\" font-size=\"14.00\" text-anchor=\"middle\" x=\"678.479\" y=\"-250.3\">(None, 6)</text>\n",
       "</g>\n",
       "<!-- 9889050920&#45;&gt;9889150400 -->\n",
       "<g class=\"edge\" id=\"edge7\"><title>9889050920-&gt;9889150400</title>\n",
       "<path d=\"M595.012,-324.329C595.012,-316.183 595.012,-306.699 595.012,-297.797\" fill=\"none\" stroke=\"black\"/>\n",
       "<polygon fill=\"black\" points=\"598.512,-297.729 595.012,-287.729 591.512,-297.729 598.512,-297.729\" stroke=\"black\"/>\n",
       "</g>\n",
       "<!-- 9896186208 -->\n",
       "<g class=\"node\" id=\"node10\"><title>9896186208</title>\n",
       "<polygon fill=\"none\" points=\"219.048,-162.5 219.048,-206.5 600.977,-206.5 600.977,-162.5 219.048,-162.5\" stroke=\"black\"/>\n",
       "<text font-family=\"Times,serif\" font-size=\"14.00\" text-anchor=\"middle\" x=\"305.367\" y=\"-180.3\">concatenate_2: Concatenate</text>\n",
       "<polyline fill=\"none\" points=\"391.687,-162.5 391.687,-206.5 \" stroke=\"black\"/>\n",
       "<text font-family=\"Times,serif\" font-size=\"14.00\" text-anchor=\"middle\" x=\"419.521\" y=\"-191.3\">input:</text>\n",
       "<polyline fill=\"none\" points=\"391.687,-184.5 447.355,-184.5 \" stroke=\"black\"/>\n",
       "<text font-family=\"Times,serif\" font-size=\"14.00\" text-anchor=\"middle\" x=\"419.521\" y=\"-169.3\">output:</text>\n",
       "<polyline fill=\"none\" points=\"447.355,-162.5 447.355,-206.5 \" stroke=\"black\"/>\n",
       "<text font-family=\"Times,serif\" font-size=\"14.00\" text-anchor=\"middle\" x=\"524.166\" y=\"-191.3\">[(None, 100), (None, 6)]</text>\n",
       "<polyline fill=\"none\" points=\"447.355,-184.5 600.977,-184.5 \" stroke=\"black\"/>\n",
       "<text font-family=\"Times,serif\" font-size=\"14.00\" text-anchor=\"middle\" x=\"523.68\" y=\"-169.3\">(None, 106)</text>\n",
       "</g>\n",
       "<!-- 9889169480&#45;&gt;9896186208 -->\n",
       "<g class=\"edge\" id=\"edge8\"><title>9889169480-&gt;9896186208</title>\n",
       "<path d=\"M275.321,-243.329C298.825,-233.238 327.105,-221.096 351.671,-210.549\" fill=\"none\" stroke=\"black\"/>\n",
       "<polygon fill=\"black\" points=\"353.079,-213.753 360.887,-206.592 350.317,-207.321 353.079,-213.753\" stroke=\"black\"/>\n",
       "</g>\n",
       "<!-- 9889150400&#45;&gt;9896186208 -->\n",
       "<g class=\"edge\" id=\"edge9\"><title>9889150400-&gt;9896186208</title>\n",
       "<path d=\"M545.436,-243.329C521.804,-233.238 493.37,-221.096 468.67,-210.549\" fill=\"none\" stroke=\"black\"/>\n",
       "<polygon fill=\"black\" points=\"469.976,-207.3 459.405,-206.592 467.227,-213.738 469.976,-207.3\" stroke=\"black\"/>\n",
       "</g>\n",
       "<!-- 9889051256 -->\n",
       "<g class=\"node\" id=\"node11\"><title>9889051256</title>\n",
       "<polygon fill=\"none\" points=\"288.228,-81.5 288.228,-125.5 531.797,-125.5 531.797,-81.5 288.228,-81.5\" stroke=\"black\"/>\n",
       "<text font-family=\"Times,serif\" font-size=\"14.00\" text-anchor=\"middle\" x=\"340.354\" y=\"-99.3\">dense_5: Dense</text>\n",
       "<polyline fill=\"none\" points=\"392.479,-81.5 392.479,-125.5 \" stroke=\"black\"/>\n",
       "<text font-family=\"Times,serif\" font-size=\"14.00\" text-anchor=\"middle\" x=\"420.314\" y=\"-110.3\">input:</text>\n",
       "<polyline fill=\"none\" points=\"392.479,-103.5 448.148,-103.5 \" stroke=\"black\"/>\n",
       "<text font-family=\"Times,serif\" font-size=\"14.00\" text-anchor=\"middle\" x=\"420.314\" y=\"-88.3\">output:</text>\n",
       "<polyline fill=\"none\" points=\"448.148,-81.5 448.148,-125.5 \" stroke=\"black\"/>\n",
       "<text font-family=\"Times,serif\" font-size=\"14.00\" text-anchor=\"middle\" x=\"489.973\" y=\"-110.3\">(None, 106)</text>\n",
       "<polyline fill=\"none\" points=\"448.148,-103.5 531.797,-103.5 \" stroke=\"black\"/>\n",
       "<text font-family=\"Times,serif\" font-size=\"14.00\" text-anchor=\"middle\" x=\"489.973\" y=\"-88.3\">(None, 106)</text>\n",
       "</g>\n",
       "<!-- 9896186208&#45;&gt;9889051256 -->\n",
       "<g class=\"edge\" id=\"edge10\"><title>9896186208-&gt;9889051256</title>\n",
       "<path d=\"M410.012,-162.329C410.012,-154.183 410.012,-144.699 410.012,-135.797\" fill=\"none\" stroke=\"black\"/>\n",
       "<polygon fill=\"black\" points=\"413.512,-135.729 410.012,-125.729 406.512,-135.729 413.512,-135.729\" stroke=\"black\"/>\n",
       "</g>\n",
       "<!-- 9896187608 -->\n",
       "<g class=\"node\" id=\"node12\"><title>9896187608</title>\n",
       "<polygon fill=\"none\" points=\"288.228,-0.5 288.228,-44.5 531.797,-44.5 531.797,-0.5 288.228,-0.5\" stroke=\"black\"/>\n",
       "<text font-family=\"Times,serif\" font-size=\"14.00\" text-anchor=\"middle\" x=\"340.354\" y=\"-18.3\">dense_6: Dense</text>\n",
       "<polyline fill=\"none\" points=\"392.479,-0.5 392.479,-44.5 \" stroke=\"black\"/>\n",
       "<text font-family=\"Times,serif\" font-size=\"14.00\" text-anchor=\"middle\" x=\"420.314\" y=\"-29.3\">input:</text>\n",
       "<polyline fill=\"none\" points=\"392.479,-22.5 448.148,-22.5 \" stroke=\"black\"/>\n",
       "<text font-family=\"Times,serif\" font-size=\"14.00\" text-anchor=\"middle\" x=\"420.314\" y=\"-7.3\">output:</text>\n",
       "<polyline fill=\"none\" points=\"448.148,-0.5 448.148,-44.5 \" stroke=\"black\"/>\n",
       "<text font-family=\"Times,serif\" font-size=\"14.00\" text-anchor=\"middle\" x=\"489.973\" y=\"-29.3\">(None, 106)</text>\n",
       "<polyline fill=\"none\" points=\"448.148,-22.5 531.797,-22.5 \" stroke=\"black\"/>\n",
       "<text font-family=\"Times,serif\" font-size=\"14.00\" text-anchor=\"middle\" x=\"489.973\" y=\"-7.3\">(None, 3)</text>\n",
       "</g>\n",
       "<!-- 9889051256&#45;&gt;9896187608 -->\n",
       "<g class=\"edge\" id=\"edge11\"><title>9889051256-&gt;9896187608</title>\n",
       "<path d=\"M410.012,-81.3294C410.012,-73.1826 410.012,-63.6991 410.012,-54.7971\" fill=\"none\" stroke=\"black\"/>\n",
       "<polygon fill=\"black\" points=\"413.512,-54.729 410.012,-44.729 406.512,-54.729 413.512,-54.729\" stroke=\"black\"/>\n",
       "</g>\n",
       "</g>\n",
       "</svg>"
      ],
      "text/plain": [
       "<IPython.core.display.SVG object>"
      ]
     },
     "execution_count": 13,
     "metadata": {},
     "output_type": "execute_result"
    }
   ],
   "source": [
    "SVG(model_to_dot(model, show_shapes=True).create(prog='dot', format='svg'))\n"
   ]
  },
  {
   "cell_type": "code",
   "execution_count": null,
   "metadata": {},
   "outputs": [],
   "source": []
  },
  {
   "cell_type": "code",
   "execution_count": null,
   "metadata": {},
   "outputs": [],
   "source": []
  },
  {
   "cell_type": "code",
   "execution_count": null,
   "metadata": {},
   "outputs": [],
   "source": []
  },
  {
   "cell_type": "code",
   "execution_count": null,
   "metadata": {},
   "outputs": [],
   "source": []
  },
  {
   "cell_type": "code",
   "execution_count": null,
   "metadata": {},
   "outputs": [],
   "source": []
  },
  {
   "cell_type": "code",
   "execution_count": null,
   "metadata": {},
   "outputs": [],
   "source": []
  },
  {
   "cell_type": "code",
   "execution_count": null,
   "metadata": {},
   "outputs": [],
   "source": []
  },
  {
   "cell_type": "code",
   "execution_count": null,
   "metadata": {},
   "outputs": [],
   "source": []
  },
  {
   "cell_type": "code",
   "execution_count": null,
   "metadata": {},
   "outputs": [],
   "source": []
  },
  {
   "cell_type": "code",
   "execution_count": null,
   "metadata": {},
   "outputs": [],
   "source": []
  },
  {
   "cell_type": "code",
   "execution_count": null,
   "metadata": {},
   "outputs": [],
   "source": []
  },
  {
   "cell_type": "code",
   "execution_count": null,
   "metadata": {},
   "outputs": [],
   "source": []
  },
  {
   "cell_type": "code",
   "execution_count": null,
   "metadata": {},
   "outputs": [],
   "source": []
  },
  {
   "cell_type": "code",
   "execution_count": null,
   "metadata": {},
   "outputs": [],
   "source": []
  },
  {
   "cell_type": "code",
   "execution_count": null,
   "metadata": {},
   "outputs": [],
   "source": []
  },
  {
   "cell_type": "code",
   "execution_count": null,
   "metadata": {},
   "outputs": [],
   "source": []
  },
  {
   "cell_type": "code",
   "execution_count": null,
   "metadata": {},
   "outputs": [],
   "source": []
  },
  {
   "cell_type": "code",
   "execution_count": null,
   "metadata": {},
   "outputs": [],
   "source": []
  },
  {
   "cell_type": "code",
   "execution_count": null,
   "metadata": {},
   "outputs": [],
   "source": []
  },
  {
   "cell_type": "code",
   "execution_count": null,
   "metadata": {},
   "outputs": [],
   "source": []
  },
  {
   "cell_type": "code",
   "execution_count": null,
   "metadata": {},
   "outputs": [],
   "source": []
  },
  {
   "cell_type": "code",
   "execution_count": null,
   "metadata": {},
   "outputs": [],
   "source": []
  },
  {
   "cell_type": "code",
   "execution_count": null,
   "metadata": {},
   "outputs": [],
   "source": []
  }
 ],
 "metadata": {
  "anaconda-cloud": {},
  "kernelspec": {
   "display_name": "Python [conda env:tensorflow36]",
   "language": "python",
   "name": "conda-env-tensorflow36-py"
  },
  "language_info": {
   "codemirror_mode": {
    "name": "ipython",
    "version": 3
   },
   "file_extension": ".py",
   "mimetype": "text/x-python",
   "name": "python",
   "nbconvert_exporter": "python",
   "pygments_lexer": "ipython3",
   "version": "3.6.5"
  }
 },
 "nbformat": 4,
 "nbformat_minor": 2
}
